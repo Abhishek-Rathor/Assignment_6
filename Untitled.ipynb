{
 "cells": [
  {
   "cell_type": "code",
   "execution_count": null,
   "id": "c36958d0-4a4a-4db7-8357-5469c9f880de",
   "metadata": {},
   "outputs": [],
   "source": [
    "Q1. What is Exception in python? Write the difference between Exceptions\n",
    "and Syntax errors."
   ]
  },
  {
   "cell_type": "code",
   "execution_count": null,
   "id": "0b5ce87c-6842-423e-b0bd-5f8143f711d1",
   "metadata": {},
   "outputs": [],
   "source": [
    "Ans. :- Exception is an error during the program execution of a program.\n",
    "It should generate a exception that should handled it. It will prevents\n",
    "the program from getting crashed\n",
    "\n",
    "\n",
    "The major fifference in Exception and syntax error is :-\n",
    "--> Error is an issue that prevents thr program from completing its task.\n",
    "\n",
    "-->An exception isa condition that interrupts the normal flow of the program"
   ]
  },
  {
   "cell_type": "code",
   "execution_count": null,
   "id": "7f4fe967-b63c-4b35-b92a-f56e95f7ddbb",
   "metadata": {},
   "outputs": [],
   "source": [
    "Q2. What happens When an exception is not handled? Explain with an \n",
    "example."
   ]
  },
  {
   "cell_type": "code",
   "execution_count": null,
   "id": "db84dff4-db9f-49c1-acc6-8d77c6b2953f",
   "metadata": {},
   "outputs": [],
   "source": [
    "Ans:- When the exception is not handled then the program is not execute and it \n",
    "abort the program and print its console"
   ]
  },
  {
   "cell_type": "code",
   "execution_count": 2,
   "id": "c5c36e04-19be-4d90-8f2f-8d45692a03e7",
   "metadata": {},
   "outputs": [
    {
     "data": {
      "text/plain": [
       "2"
      ]
     },
     "execution_count": 2,
     "metadata": {},
     "output_type": "execute_result"
    }
   ],
   "source": [
    "# Example :-\n",
    "try :\n",
    "    f = open(\"test.txt\" , 'w')\n",
    "    f.write(\"My name is Abhishek\")\n",
    "except Exception as e :\n",
    "    print(\"This is my except block\" , e)\n",
    "a = 1+1\n",
    "a "
   ]
  },
  {
   "cell_type": "code",
   "execution_count": null,
   "id": "869515b4-eeef-4020-ac79-453855a0025b",
   "metadata": {},
   "outputs": [],
   "source": [
    "Q3. Which python statement are used to catch and handle exceptions? Expalin with \n",
    "an example."
   ]
  },
  {
   "cell_type": "code",
   "execution_count": null,
   "id": "e1275876-00b6-4aa9-9850-59c22851af9e",
   "metadata": {},
   "outputs": [],
   "source": [
    "Ans. Try and except block are used to catch and handle exception. "
   ]
  },
  {
   "cell_type": "code",
   "execution_count": 3,
   "id": "732aaa7b-e65a-4756-ab2e-e36ea40d701c",
   "metadata": {},
   "outputs": [
    {
     "data": {
      "text/plain": [
       "2"
      ]
     },
     "execution_count": 3,
     "metadata": {},
     "output_type": "execute_result"
    }
   ],
   "source": [
    "# Example\n",
    "try : \n",
    "    f = open(\"test.txt\" , 'w')\n",
    "    f.write(\"My name is Abhishek\")\n",
    "except Exception as e :\n",
    "    print(\"This is my except block\" , e)\n",
    "a = 1+1\n",
    "a "
   ]
  },
  {
   "cell_type": "code",
   "execution_count": null,
   "id": "dee57fff-27cc-47f3-9d3d-aac282b40829",
   "metadata": {},
   "outputs": [],
   "source": [
    "Q4. Expalin with an exaple:\n",
    "    a. try and else\n",
    "    b.finally\n",
    "    c.raise"
   ]
  },
  {
   "cell_type": "code",
   "execution_count": null,
   "id": "8011a2ff-97e3-41d9-9569-8325019b13c7",
   "metadata": {},
   "outputs": [],
   "source": [
    "Ans. \n",
    "a. try and else:-  try is used to handle the exception and else is \n",
    "used after the exception handled.\n",
    "b.finally:- finally is execute in any conditon if the program thruogh error or not\n",
    "it will execute.\n",
    "c. raise:- raise is used in exception handling to give a condition in program"
   ]
  },
  {
   "cell_type": "code",
   "execution_count": null,
   "id": "7ad90a04-9f6f-44f8-93a8-2141c6717493",
   "metadata": {},
   "outputs": [],
   "source": [
    "Q5. What are Custom Exceptions in python? Why do we need Custom Excepiton with \n",
    "an example."
   ]
  },
  {
   "cell_type": "code",
   "execution_count": null,
   "id": "d07d5b9b-25e7-4922-9141-5af8119cab83",
   "metadata": {},
   "outputs": [],
   "source": [
    "Ans:- Costum exception is creating your own class .\n",
    "Costum exceptions are used to costumize the exception acoording to \n",
    "user needs"
   ]
  },
  {
   "cell_type": "code",
   "execution_count": 5,
   "id": "f26a805e-6222-4644-8b0f-36f7b8a289a8",
   "metadata": {},
   "outputs": [
    {
     "name": "stdin",
     "output_type": "stream",
     "text": [
      "enter your class 5\n"
     ]
    }
   ],
   "source": [
    "# Example\n",
    "clas = int(input(\"enter your class\"))"
   ]
  },
  {
   "cell_type": "code",
   "execution_count": null,
   "id": "c2883f07-52a7-4460-b54c-abc561db629c",
   "metadata": {},
   "outputs": [],
   "source": [
    "class validateage(Exception):\n",
    "    \n",
    "    def __init__(self, msg):\n",
    "        self.msg = msg\n",
    "    \n",
    "def validateage(clas):\n",
    "    if clas is < 0 :\n",
    "        raise validateage(\"Class is negative\")\n",
    "    elif clas is > 12 :\n",
    "        raise validateage(\"class is Higher\")\n",
    "    else :\n",
    "        print(\"class is valid\")\n",
    "        \n",
    "try :\n",
    "   clas = int(input(\"enter your class\"))\n",
    "    validateage(clas)\n",
    "except validateage as e :\n",
    "    print(e)  "
   ]
  },
  {
   "cell_type": "code",
   "execution_count": null,
   "id": "c04b801b-0777-4394-b892-c1030971de84",
   "metadata": {},
   "outputs": [],
   "source": [
    "Q6. Create a custom excepti"
   ]
  }
 ],
 "metadata": {
  "kernelspec": {
   "display_name": "Python 3 (ipykernel)",
   "language": "python",
   "name": "python3"
  },
  "language_info": {
   "codemirror_mode": {
    "name": "ipython",
    "version": 3
   },
   "file_extension": ".py",
   "mimetype": "text/x-python",
   "name": "python",
   "nbconvert_exporter": "python",
   "pygments_lexer": "ipython3",
   "version": "3.10.8"
  }
 },
 "nbformat": 4,
 "nbformat_minor": 5
}
